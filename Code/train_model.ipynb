{
 "cells": [
  {
   "cell_type": "markdown",
   "metadata": {},
   "source": [
    "## Train Model - Card Default Prediction \n",
    "\n",
    "In this notebook, a model will be created that predicts wheter the loan in question will default in the following 12 months, using the previously explored dataset"
   ]
  },
  {
   "cell_type": "markdown",
   "metadata": {},
   "source": [
    "## 0. Import Functions and Preprocess data"
   ]
  },
  {
   "cell_type": "code",
   "execution_count": 1,
   "metadata": {},
   "outputs": [],
   "source": [
    "import pandas as pd\n",
    "import numpy as np\n",
    "import matplotlib as plot\n",
    "import matplotlib.pyplot as pyplot\n",
    "\n",
    "import sklearn\n",
    "from sklearn.model_selection import train_test_split # to split the data into two parts\n",
    "from sklearn.linear_model import LogisticRegression # to apply the Logistic regression\n",
    "from sklearn.feature_selection import RFE\n",
    "from sklearn.model_selection import KFold # for cross validation\n",
    "from sklearn.model_selection import GridSearchCV # for tuning parameter\n",
    "from sklearn.model_selection import RandomizedSearchCV  # Randomized search on hyper parameters.\n",
    "from sklearn.preprocessing import StandardScaler # for normalization\n",
    "from sklearn.pipeline import Pipeline \n",
    "from sklearn.ensemble import RandomForestClassifier\n",
    "from sklearn.tree import DecisionTreeClassifier\n",
    "from sklearn.preprocessing import OneHotEncoder\n",
    "from sklearn.metrics import classification_report\n",
    "from sklearn.metrics import confusion_matrix\n",
    "from sklearn.model_selection import cross_val_score, StratifiedKFold\n",
    "from sklearn.metrics import roc_auc_score\n",
    "\n",
    "from xgboost import XGBClassifier\n",
    "from imblearn.over_sampling import SMOTE\n",
    "\n",
    "#Import functions from the DataProcessing.py file\n",
    "from DataProcessing import *"
   ]
  },
  {
   "cell_type": "code",
   "execution_count": 2,
   "metadata": {},
   "outputs": [],
   "source": [
    "path_to_dataset_original = \"../Dataset/exercise_syn_data_original.csv\"\n",
    "original_dataset = pd.read_csv(path_to_dataset_original, sep = \";\", decimal=\",\")\n",
    "seed = 42 # Seed for to unsure random processes are reproducible"
   ]
  },
  {
   "cell_type": "code",
   "execution_count": 3,
   "metadata": {},
   "outputs": [],
   "source": [
    "processed_dataset = ReplaceNullValues(original_dataset) #Replace Unknown values (-1, -999) with NaNs\n",
    "processed_dataset = totalTransactionsColumn(processed_dataset) #Sum all columns of type \"amount_transaction_typeX\" to obtain the total amount spent \n",
    "processed_dataset = oneHotEncode(processed_dataset)  #One-hot encode the LivingStatus and EmploymentStatus columns\n",
    "processed_dataset = fillNaMean(processed_dataset) # Fill NaN values with the mean value for that specific feature\n",
    "processed_dataset = processed_dataset.drop(labels = ['EmploymentStatus', 'LivingStatus'], axis = 1) # columns no longer needed\n",
    "\n",
    "# Create new variable for all jobs, except the executive exmployee\n",
    "processed_dataset['Stable_Job'] = processed_dataset['Civil servants/governmental'] + processed_dataset['Employee'] + processed_dataset['Executive civil servant']"
   ]
  },
  {
   "cell_type": "markdown",
   "metadata": {},
   "source": [
    "## 1. Data Processing"
   ]
  },
  {
   "cell_type": "markdown",
   "metadata": {},
   "source": [
    "- Divide Data into X and Y (features and target)\n",
    "- Split data into training data and testing data (80% / 20 %). Use stratify using target variable"
   ]
  },
  {
   "cell_type": "code",
   "execution_count": 4,
   "metadata": {},
   "outputs": [],
   "source": [
    "X = processed_dataset.drop('default', axis=1)  \n",
    "y = processed_dataset['default']\n",
    "\n",
    "X_train_, X_test_, y_train, y_test = train_test_split(X,y, test_size=0.2, stratify=y, random_state=seed)"
   ]
  },
  {
   "cell_type": "markdown",
   "metadata": {},
   "source": [
    "- Two datasets are created, with diferent features. \n",
    "- The first features were selected with the findings from the DataExploration in mind. Features with most impact in the default probability and without unexpected behaviours were chosen.\n",
    "- In the second data set, the features from the first dataset were selected, plus the amount_transaction_type features. "
   ]
  },
  {
   "cell_type": "code",
   "execution_count": 5,
   "metadata": {},
   "outputs": [],
   "source": [
    "column_list1 = ['MonthlyIncome' ,'external_score_1','time_to_first_trx', 'Student', 'Retiree/pensioner',  'Stable_Job',  'Owner', 'total_amount_transaction']\n",
    "#'UnknownEmployment', 'Unemployed, 'Executive civil servant'\n",
    "column_list2 = ['MonthlyIncome' ,'external_score_1', 'external_score_2' ,'time_to_first_trx', 'Student', 'Retiree/pensioner',  'Stable_Job',  'Owner', 'total_amount_transaction'] + [ ('amount_transaction_type'+ str(x+1)) for x in range(16)] \n",
    "\n",
    "X_train1 = X_train_[column_list1]\n",
    "X_test1 = X_test_[column_list1]\n",
    "\n",
    "X_train2 = X_train_[column_list2]\n",
    "X_test2 = X_test_[column_list2]"
   ]
  },
  {
   "cell_type": "code",
   "execution_count": 6,
   "metadata": {},
   "outputs": [
    {
     "data": {
      "text/html": [
       "<div>\n",
       "<style scoped>\n",
       "    .dataframe tbody tr th:only-of-type {\n",
       "        vertical-align: middle;\n",
       "    }\n",
       "\n",
       "    .dataframe tbody tr th {\n",
       "        vertical-align: top;\n",
       "    }\n",
       "\n",
       "    .dataframe thead th {\n",
       "        text-align: right;\n",
       "    }\n",
       "</style>\n",
       "<table border=\"1\" class=\"dataframe\">\n",
       "  <thead>\n",
       "    <tr style=\"text-align: right;\">\n",
       "      <th></th>\n",
       "      <th>MonthlyIncome</th>\n",
       "      <th>external_score_1</th>\n",
       "      <th>time_to_first_trx</th>\n",
       "      <th>Student</th>\n",
       "      <th>Retiree/pensioner</th>\n",
       "      <th>Stable_Job</th>\n",
       "      <th>Owner</th>\n",
       "      <th>total_amount_transaction</th>\n",
       "    </tr>\n",
       "  </thead>\n",
       "  <tbody>\n",
       "    <tr>\n",
       "      <th>count</th>\n",
       "      <td>4000.000000</td>\n",
       "      <td>4000.000000</td>\n",
       "      <td>4000.00000</td>\n",
       "      <td>4000.000000</td>\n",
       "      <td>4000.000000</td>\n",
       "      <td>4000.000000</td>\n",
       "      <td>4000.000000</td>\n",
       "      <td>4000.000000</td>\n",
       "    </tr>\n",
       "    <tr>\n",
       "      <th>mean</th>\n",
       "      <td>2108.685632</td>\n",
       "      <td>488.598754</td>\n",
       "      <td>89.32350</td>\n",
       "      <td>0.033500</td>\n",
       "      <td>0.094250</td>\n",
       "      <td>0.436250</td>\n",
       "      <td>0.274000</td>\n",
       "      <td>-341.657325</td>\n",
       "    </tr>\n",
       "    <tr>\n",
       "      <th>std</th>\n",
       "      <td>779.862204</td>\n",
       "      <td>73.954539</td>\n",
       "      <td>169.02661</td>\n",
       "      <td>0.179961</td>\n",
       "      <td>0.292213</td>\n",
       "      <td>0.495981</td>\n",
       "      <td>0.446065</td>\n",
       "      <td>574.800031</td>\n",
       "    </tr>\n",
       "    <tr>\n",
       "      <th>min</th>\n",
       "      <td>1000.000000</td>\n",
       "      <td>250.000000</td>\n",
       "      <td>9.00000</td>\n",
       "      <td>0.000000</td>\n",
       "      <td>0.000000</td>\n",
       "      <td>0.000000</td>\n",
       "      <td>0.000000</td>\n",
       "      <td>-7905.120000</td>\n",
       "    </tr>\n",
       "    <tr>\n",
       "      <th>25%</th>\n",
       "      <td>1500.000000</td>\n",
       "      <td>464.000000</td>\n",
       "      <td>25.00000</td>\n",
       "      <td>0.000000</td>\n",
       "      <td>0.000000</td>\n",
       "      <td>0.000000</td>\n",
       "      <td>0.000000</td>\n",
       "      <td>-446.452500</td>\n",
       "    </tr>\n",
       "    <tr>\n",
       "      <th>50%</th>\n",
       "      <td>2000.000000</td>\n",
       "      <td>499.000000</td>\n",
       "      <td>39.00000</td>\n",
       "      <td>0.000000</td>\n",
       "      <td>0.000000</td>\n",
       "      <td>0.000000</td>\n",
       "      <td>0.000000</td>\n",
       "      <td>-108.095000</td>\n",
       "    </tr>\n",
       "    <tr>\n",
       "      <th>75%</th>\n",
       "      <td>2500.000000</td>\n",
       "      <td>540.000000</td>\n",
       "      <td>71.00000</td>\n",
       "      <td>0.000000</td>\n",
       "      <td>0.000000</td>\n",
       "      <td>1.000000</td>\n",
       "      <td>1.000000</td>\n",
       "      <td>-14.775000</td>\n",
       "    </tr>\n",
       "    <tr>\n",
       "      <th>max</th>\n",
       "      <td>6001.000000</td>\n",
       "      <td>637.000000</td>\n",
       "      <td>1686.00000</td>\n",
       "      <td>1.000000</td>\n",
       "      <td>1.000000</td>\n",
       "      <td>1.000000</td>\n",
       "      <td>1.000000</td>\n",
       "      <td>0.000000</td>\n",
       "    </tr>\n",
       "  </tbody>\n",
       "</table>\n",
       "</div>"
      ],
      "text/plain": [
       "       MonthlyIncome  external_score_1  time_to_first_trx      Student  \\\n",
       "count    4000.000000       4000.000000         4000.00000  4000.000000   \n",
       "mean     2108.685632        488.598754           89.32350     0.033500   \n",
       "std       779.862204         73.954539          169.02661     0.179961   \n",
       "min      1000.000000        250.000000            9.00000     0.000000   \n",
       "25%      1500.000000        464.000000           25.00000     0.000000   \n",
       "50%      2000.000000        499.000000           39.00000     0.000000   \n",
       "75%      2500.000000        540.000000           71.00000     0.000000   \n",
       "max      6001.000000        637.000000         1686.00000     1.000000   \n",
       "\n",
       "       Retiree/pensioner   Stable_Job        Owner  total_amount_transaction  \n",
       "count        4000.000000  4000.000000  4000.000000               4000.000000  \n",
       "mean            0.094250     0.436250     0.274000               -341.657325  \n",
       "std             0.292213     0.495981     0.446065                574.800031  \n",
       "min             0.000000     0.000000     0.000000              -7905.120000  \n",
       "25%             0.000000     0.000000     0.000000               -446.452500  \n",
       "50%             0.000000     0.000000     0.000000               -108.095000  \n",
       "75%             0.000000     1.000000     1.000000                -14.775000  \n",
       "max             1.000000     1.000000     1.000000                  0.000000  "
      ]
     },
     "metadata": {},
     "output_type": "display_data"
    },
    {
     "data": {
      "text/html": [
       "<div>\n",
       "<style scoped>\n",
       "    .dataframe tbody tr th:only-of-type {\n",
       "        vertical-align: middle;\n",
       "    }\n",
       "\n",
       "    .dataframe tbody tr th {\n",
       "        vertical-align: top;\n",
       "    }\n",
       "\n",
       "    .dataframe thead th {\n",
       "        text-align: right;\n",
       "    }\n",
       "</style>\n",
       "<table border=\"1\" class=\"dataframe\">\n",
       "  <thead>\n",
       "    <tr style=\"text-align: right;\">\n",
       "      <th></th>\n",
       "      <th>MonthlyIncome</th>\n",
       "      <th>external_score_1</th>\n",
       "      <th>time_to_first_trx</th>\n",
       "      <th>Student</th>\n",
       "      <th>Retiree/pensioner</th>\n",
       "      <th>Stable_Job</th>\n",
       "      <th>Owner</th>\n",
       "      <th>total_amount_transaction</th>\n",
       "    </tr>\n",
       "  </thead>\n",
       "  <tbody>\n",
       "    <tr>\n",
       "      <th>count</th>\n",
       "      <td>1000.000000</td>\n",
       "      <td>1000.000000</td>\n",
       "      <td>1000.000000</td>\n",
       "      <td>1000.00000</td>\n",
       "      <td>1000.000000</td>\n",
       "      <td>1000.000000</td>\n",
       "      <td>1000.000000</td>\n",
       "      <td>1000.000000</td>\n",
       "    </tr>\n",
       "    <tr>\n",
       "      <th>mean</th>\n",
       "      <td>2140.801722</td>\n",
       "      <td>487.794684</td>\n",
       "      <td>85.341000</td>\n",
       "      <td>0.02900</td>\n",
       "      <td>0.087000</td>\n",
       "      <td>0.443000</td>\n",
       "      <td>0.271000</td>\n",
       "      <td>-326.941850</td>\n",
       "    </tr>\n",
       "    <tr>\n",
       "      <th>std</th>\n",
       "      <td>809.711998</td>\n",
       "      <td>74.119790</td>\n",
       "      <td>157.110396</td>\n",
       "      <td>0.16789</td>\n",
       "      <td>0.281976</td>\n",
       "      <td>0.496989</td>\n",
       "      <td>0.444699</td>\n",
       "      <td>575.456767</td>\n",
       "    </tr>\n",
       "    <tr>\n",
       "      <th>min</th>\n",
       "      <td>1000.000000</td>\n",
       "      <td>253.000000</td>\n",
       "      <td>11.000000</td>\n",
       "      <td>0.00000</td>\n",
       "      <td>0.000000</td>\n",
       "      <td>0.000000</td>\n",
       "      <td>0.000000</td>\n",
       "      <td>-7115.580000</td>\n",
       "    </tr>\n",
       "    <tr>\n",
       "      <th>25%</th>\n",
       "      <td>1500.000000</td>\n",
       "      <td>468.000000</td>\n",
       "      <td>25.000000</td>\n",
       "      <td>0.00000</td>\n",
       "      <td>0.000000</td>\n",
       "      <td>0.000000</td>\n",
       "      <td>0.000000</td>\n",
       "      <td>-400.585000</td>\n",
       "    </tr>\n",
       "    <tr>\n",
       "      <th>50%</th>\n",
       "      <td>2000.000000</td>\n",
       "      <td>497.500000</td>\n",
       "      <td>38.500000</td>\n",
       "      <td>0.00000</td>\n",
       "      <td>0.000000</td>\n",
       "      <td>0.000000</td>\n",
       "      <td>0.000000</td>\n",
       "      <td>-125.155000</td>\n",
       "    </tr>\n",
       "    <tr>\n",
       "      <th>75%</th>\n",
       "      <td>2500.000000</td>\n",
       "      <td>539.000000</td>\n",
       "      <td>69.250000</td>\n",
       "      <td>0.00000</td>\n",
       "      <td>0.000000</td>\n",
       "      <td>1.000000</td>\n",
       "      <td>1.000000</td>\n",
       "      <td>-13.527500</td>\n",
       "    </tr>\n",
       "    <tr>\n",
       "      <th>max</th>\n",
       "      <td>6001.000000</td>\n",
       "      <td>637.000000</td>\n",
       "      <td>1384.000000</td>\n",
       "      <td>1.00000</td>\n",
       "      <td>1.000000</td>\n",
       "      <td>1.000000</td>\n",
       "      <td>1.000000</td>\n",
       "      <td>0.000000</td>\n",
       "    </tr>\n",
       "  </tbody>\n",
       "</table>\n",
       "</div>"
      ],
      "text/plain": [
       "       MonthlyIncome  external_score_1  time_to_first_trx     Student  \\\n",
       "count    1000.000000       1000.000000        1000.000000  1000.00000   \n",
       "mean     2140.801722        487.794684          85.341000     0.02900   \n",
       "std       809.711998         74.119790         157.110396     0.16789   \n",
       "min      1000.000000        253.000000          11.000000     0.00000   \n",
       "25%      1500.000000        468.000000          25.000000     0.00000   \n",
       "50%      2000.000000        497.500000          38.500000     0.00000   \n",
       "75%      2500.000000        539.000000          69.250000     0.00000   \n",
       "max      6001.000000        637.000000        1384.000000     1.00000   \n",
       "\n",
       "       Retiree/pensioner   Stable_Job        Owner  total_amount_transaction  \n",
       "count        1000.000000  1000.000000  1000.000000               1000.000000  \n",
       "mean            0.087000     0.443000     0.271000               -326.941850  \n",
       "std             0.281976     0.496989     0.444699                575.456767  \n",
       "min             0.000000     0.000000     0.000000              -7115.580000  \n",
       "25%             0.000000     0.000000     0.000000               -400.585000  \n",
       "50%             0.000000     0.000000     0.000000               -125.155000  \n",
       "75%             0.000000     1.000000     1.000000                -13.527500  \n",
       "max             1.000000     1.000000     1.000000                  0.000000  "
      ]
     },
     "metadata": {},
     "output_type": "display_data"
    }
   ],
   "source": [
    "display(X_train1.describe())\n",
    "display(X_test1.describe())"
   ]
  },
  {
   "cell_type": "markdown",
   "metadata": {},
   "source": [
    "- Oversampling: Defaults are a minority class in the dataset. If we wish to improve the model performance in this, oversampling techniques like SMOTE provide a way to increase the representation of default data.\n",
    "- A sampling strategy of 0.20 was used, increasing the representation of default data from 4.6 % to 20 %"
   ]
  },
  {
   "cell_type": "code",
   "execution_count": 7,
   "metadata": {},
   "outputs": [],
   "source": [
    "sm = SMOTE(sampling_strategy = 0.20, random_state=seed)\n",
    "X_res1, y_res1 = sm.fit_resample(X_train1, y_train)\n",
    "\n",
    "sm = SMOTE(sampling_strategy = 0.20, random_state=seed)\n",
    "X_res2, y_res2 = sm.fit_resample(X_train2, y_train)"
   ]
  },
  {
   "cell_type": "markdown",
   "metadata": {},
   "source": [
    "## 2. Model training and evaluation"
   ]
  },
  {
   "cell_type": "markdown",
   "metadata": {},
   "source": [
    "Here we create the predicative model, considering the following:\n",
    "\n",
    "Models tested :\n",
    "- Decision Tree\n",
    "- Logistic Regression\n",
    "- Random Forest\n",
    "- XGB Classifier\n",
    "\n",
    "Datasets:\n",
    "- Dataset1 was used for the DecisionTree and Logistic Regression models, since these are more simple models.\n",
    "- Dataset2 was used for the Random Forest and the XGB Classifier. Because these models are more complex, they are able to handle better the high number of features given to the model.\n",
    "\n",
    "Model training\n",
    "- As mentioned before, data was split in train and test data. All models were trained in the training data and tested in the testing data.\n",
    "- On top of that, hyperparameter tuning was performed in the training data, in order to choose the most adequate hyperparameters for each model. Stratified K Fold strategy was used for this purpose, with 5 splits.\n",
    "\n",
    "Evaluation Metrics:\n",
    "- Since we are doing a classification task, it would be tempting to evalute models using the accuracy metric. However, in this situation, we are doing Imbalanced Classification. We will use the AUC-ROC metric, since it measures the ability of the model to distinguish between default or no-default loans.\n",
    "\n",
    "Model Parameters:\n",
    "- All models presented some level of overfitting to the data. Because of this, strong regularization parameters were used.\n",
    "- Despite we are oversampling default data, there is still some Imbalancing in the training data. Because of this, a higher class weight for the default class was used, so that the misclassification made in the minority class is more penalized. "
   ]
  },
  {
   "cell_type": "markdown",
   "metadata": {},
   "source": [
    "## 2.1 Decision Tree Classifier\n",
    "- Dataset1 was used\n",
    "- Grid Search method was used to search hyperparameters\n",
    "- ROC AUC achieved: 0.84"
   ]
  },
  {
   "cell_type": "code",
   "execution_count": 8,
   "metadata": {},
   "outputs": [
    {
     "name": "stdout",
     "output_type": "stream",
     "text": [
      "Fitting 5 folds for each of 360 candidates, totalling 1800 fits\n",
      "0.8463835429552475\n",
      "{'class_weight': {0: 1, 1: 10}, 'criterion': 'gini', 'max_depth': 5, 'max_features': 5, 'min_samples_leaf': 8}\n",
      "0.8344954881050041\n",
      "              precision    recall  f1-score   support\n",
      "\n",
      "           0       1.00      0.64      0.78       954\n",
      "           1       0.11      0.93      0.20        46\n",
      "\n",
      "    accuracy                           0.65      1000\n",
      "   macro avg       0.55      0.79      0.49      1000\n",
      "weighted avg       0.95      0.65      0.75      1000\n",
      "\n"
     ]
    }
   ],
   "source": [
    "model = DecisionTreeClassifier(random_state= seed)\n",
    "skf = StratifiedKFold(n_splits=5, shuffle= True, random_state= seed)\n",
    "\n",
    "param_grid = {\"max_depth\": [1,2 ,3, 4, 5],\n",
    "              \"max_features\": [1,3 ,5],\n",
    "              \"min_samples_leaf\": [3, 5 , 8, 10],\n",
    "              \"criterion\": ['gini', 'entropy'],\n",
    "              \"class_weight\" : [{0:1, 1:5}, {0:1, 1:10}, {0:1, 1:25}]\n",
    "             \n",
    "              }\n",
    "\n",
    "best_model = GridSearchCV(estimator= model, param_grid= param_grid, \n",
    "                         cv= skf, verbose= True, n_jobs= -1, scoring = 'roc_auc')\n",
    "\n",
    "best_model.fit(X_res1, y_res1)\n",
    "print(best_model.best_score_)\n",
    "print(best_model.best_params_)\n",
    "\n",
    "y_pred_prob = best_model.predict_proba(X_test1)\n",
    "print(sklearn.metrics.roc_auc_score(y_test, y_pred_prob[:,1] ))\n",
    "\n",
    "y_pred = best_model.predict(X_test1)\n",
    "print(classification_report(y_test, y_pred ))\n",
    "\n",
    "#{'class_weight': {0: 1, 1: 10}, 'criterion': 'gini', 'max_depth': 5, 'max_features': 5, 'min_samples_leaf': 8}\n",
    "#ROC AUC: 0.8344954881050041"
   ]
  },
  {
   "cell_type": "markdown",
   "metadata": {},
   "source": [
    "## 2.2 Logistic Regression\n",
    "- Dataset1 was used\n",
    "- Grid Search method was used to search hyperparameters\n",
    "- ROC AUC achieved: 0.79"
   ]
  },
  {
   "cell_type": "code",
   "execution_count": 282,
   "metadata": {},
   "outputs": [
    {
     "name": "stdout",
     "output_type": "stream",
     "text": [
      "0.8361232727438311\n",
      "{'C': 1.389495494373136, 'class_weight': 'balanced', 'solver': 'liblinear'}\n",
      "0.7884878315559202\n",
      "              precision    recall  f1-score   support\n",
      "\n",
      "           0       0.98      0.71      0.83       954\n",
      "           1       0.11      0.76      0.20        46\n",
      "\n",
      "    accuracy                           0.71      1000\n",
      "   macro avg       0.55      0.74      0.51      1000\n",
      "weighted avg       0.94      0.71      0.80      1000\n",
      "\n"
     ]
    }
   ],
   "source": [
    "LRModel = LogisticRegression(random_state=seed)\n",
    "skf = StratifiedKFold(n_splits=5, shuffle= True, random_state= seed)\n",
    "\n",
    "param_grid = {'C': np.logspace(-5, 3, 15), \n",
    "              'solver': ['liblinear', 'newton-cg'],\n",
    "              \"class_weight\" : ['balanced']\n",
    "             }\n",
    "\n",
    "best_model = GridSearchCV(estimator= LRModel, param_grid= param_grid, \n",
    "                         cv= skf, verbose= False, n_jobs= -1, scoring = 'roc_auc')\n",
    "\n",
    "best_model.fit(X_res1, y_res1)\n",
    "print(best_model.best_score_)\n",
    "print(best_model.best_params_)\n",
    "\n",
    "y_pred_prob = best_model.predict_proba(X_test1)\n",
    "print(sklearn.metrics.roc_auc_score(y_test, y_pred_prob[:,1] ))\n",
    "\n",
    "y_pred = best_model.predict(X_test1)\n",
    "print(classification_report(y_test, y_pred ))\n",
    "\n",
    "#{'C': 1.389495494373136, 'class_weight': 'balanced', 'solver': 'liblinear'}\n",
    "#ROC AUC: 0.79"
   ]
  },
  {
   "cell_type": "markdown",
   "metadata": {},
   "source": [
    "## 2.3 Random Forest Classifier\n",
    "- Dataset2 was used\n",
    "- Randomized Search method was used to search hyperparameters\n",
    "- ROC AUC achieved: 0.878"
   ]
  },
  {
   "cell_type": "code",
   "execution_count": 309,
   "metadata": {},
   "outputs": [
    {
     "name": "stdout",
     "output_type": "stream",
     "text": [
      "Fitting 5 folds for each of 10 candidates, totalling 50 fits\n",
      "0.9305064863544\n",
      "{'n_estimators': 40, 'min_samples_leaf': 10, 'max_features': 7, 'max_depth': 6, 'criterion': 'gini'}\n",
      "0.877768662838392\n",
      "              precision    recall  f1-score   support\n",
      "\n",
      "           0       0.99      0.83      0.90       954\n",
      "           1       0.18      0.76      0.29        46\n",
      "\n",
      "    accuracy                           0.83      1000\n",
      "   macro avg       0.58      0.80      0.59      1000\n",
      "weighted avg       0.95      0.83      0.87      1000\n",
      "\n"
     ]
    }
   ],
   "source": [
    "model = RandomForestClassifier(random_state = seed, class_weight = 'balanced')\n",
    "skf = StratifiedKFold(n_splits=5, shuffle= True, random_state= seed)\n",
    "\n",
    "param_grid = {'n_estimators': [20, 30, 40, 60],\n",
    "               \"max_features\": [2,3,4,5, 6, 7],\n",
    "               'max_depth': [1,2,3,4, 5, 6, 7],\n",
    "               \"min_samples_leaf\": [ 5, 10, 20 , 30 ],\n",
    "               \"criterion\": [ \"entropy\", \"gini\"] ,}\n",
    "\n",
    "best_model = RandomizedSearchCV(estimator= model, param_distributions= param_grid, cv= skf, verbose= True, n_jobs= -1, scoring = 'roc_auc', random_state=seed)\n",
    "\n",
    "best_model.fit(X_res2, y_res2)\n",
    "print(best_model.best_score_)\n",
    "print(best_model.best_params_)\n",
    "\n",
    "y_pred_prob = best_model.predict_proba(X_test2)\n",
    "print(sklearn.metrics.roc_auc_score(y_test, y_pred_prob[:,1] ))\n",
    "\n",
    "y_pred = best_model.predict(X_test2)\n",
    "print(classification_report(y_test, y_pred ))\n",
    "\n",
    "\n",
    "#{'n_estimators': 40, 'min_samples_leaf': 10, 'max_features': 7, 'max_depth': 6, 'criterion': 'gini'}\n",
    "#Score: 0.877"
   ]
  },
  {
   "cell_type": "markdown",
   "metadata": {},
   "source": [
    "## 2.4 XGB Classifier\n",
    "- Dataset2 was used\n",
    "- Randomized Search method was used to search hyperparameters\n",
    "- ROC AUC achieved: 0.88"
   ]
  },
  {
   "cell_type": "code",
   "execution_count": 10,
   "metadata": {},
   "outputs": [
    {
     "name": "stdout",
     "output_type": "stream",
     "text": [
      "Fitting 5 folds for each of 10 candidates, totalling 50 fits\n",
      "0.9493388253418219\n",
      "{'reg_lambda': 10, 'reg_alpha': 1, 'n_estimators': 40, 'max_depth': 10, 'learning_rate': 0.1, 'gamma': 20}\n",
      "0.8800246103363413\n",
      "              precision    recall  f1-score   support\n",
      "\n",
      "           0       0.98      0.87      0.92       954\n",
      "           1       0.17      0.57      0.27        46\n",
      "\n",
      "    accuracy                           0.86      1000\n",
      "   macro avg       0.58      0.72      0.59      1000\n",
      "weighted avg       0.94      0.86      0.89      1000\n",
      "\n"
     ]
    }
   ],
   "source": [
    "model = XGBClassifier(random_state = seed, scale_pos_weight =  5)\n",
    "skf = StratifiedKFold(n_splits=5, shuffle= True, random_state= seed)\n",
    "\n",
    "\n",
    "param_grid = {\n",
    "    'n_estimators': [ 20, 30 , 40 ],\n",
    "    'learning_rate': [0.01 , 0.05, 0.1 ],\n",
    "    'max_depth' : [3, 5, 7, 10, 20],\n",
    "    'gamma': [20 , 30, 50],\n",
    "    'reg_alpha': [1, 5, 10],\n",
    "    'reg_lambda': [5, 10],\n",
    "}\n",
    "\n",
    "#best_model = GridSearchCV(estimator= model, param_grid= param_grid, cv= skf, verbose= True, n_jobs= -1, scoring = 'roc_auc')\n",
    "best_model = RandomizedSearchCV(estimator= model, param_distributions= param_grid, cv= skf, verbose= True, n_jobs= -1, scoring = 'roc_auc', random_state=seed)\n",
    "\n",
    "best_model.fit(X_res2, y_res2)\n",
    "print(best_model.best_score_)\n",
    "print(best_model.best_params_)\n",
    "\n",
    "y_pred_prob = best_model.predict_proba(X_test2)\n",
    "print(sklearn.metrics.roc_auc_score(y_test, y_pred_prob[:,1] ))\n",
    "\n",
    "y_pred = best_model.predict(X_test2)\n",
    "print(classification_report(y_test, y_pred ))\n",
    "\n",
    "#best : {'reg_lambda': 10, 'reg_alpha': 1, 'n_estimators': 40, 'max_depth': 10, 'learning_rate': 0.1, 'gamma': 20}\n",
    "# ROC: 0.88"
   ]
  },
  {
   "cell_type": "markdown",
   "metadata": {},
   "source": [
    "## Model Choice\n",
    "\n",
    "The XGBoost classifier is the model chosen for loan default prediction. We use the power of Gradient Boosting to create this model, with strong regularization parameters. Model was trained in data which was oversampled in the default loan data. Higher class weights values for the default class were used, so that the misclassification made in the minority class is more penalized.\n",
    "\n",
    "Here are the characteristics of this model\n",
    "\n",
    "Model features:\n",
    "-  'MonthlyIncome' ,'external_score_1', 'external_score_2' ,'time_to_first_trx', 'Student', 'Retiree/pensioner',  'Stable_Job',  'Owner', 'total_amount_transaction', 'amount_transaction_typeX'\n",
    "\n",
    "Model Hyperparameters:\n",
    "- 'reg_lambda': 10, 'reg_alpha': 1, 'n_estimators': 40, 'max_depth': 10, 'learning_rate': 0.1, 'gamma': 20, 'scale_pos_weight' =  5\n",
    "\n",
    "Evalutation Metrics:\n",
    "- Train ROC AUC: 0.95\n",
    "- Test ROC AOC: 0.88\n",
    "\n",
    "Classification Report:\n",
    "\n",
    "                       precision recall   f1-score  count\n",
    "\n",
    "         0   0         0.98      0.87      0.92       954\n",
    "         0   1         0.17      0.57      0.27        46\n",
    "\n",
    "         macro avg     0.58      0.72      0.59      1000\n",
    "    \n",
    "         weighted av   0.94      0.86      0.89      1000\n",
    "         \n",
    "Overall, a very good ROC AUC score was achieved. The model performs better in classifying non-defaults than default loans. It was also possible to achieve a precision of 99 %, which means that we can be very confident of the non-default predictions made by the model."
   ]
  },
  {
   "cell_type": "code",
   "execution_count": 11,
   "metadata": {},
   "outputs": [
    {
     "name": "stdout",
     "output_type": "stream",
     "text": [
      "0.8800246103363413\n"
     ]
    },
    {
     "data": {
      "image/png": "[encoded data removed]",
      "text/plain": [
       "<Figure size 640x480 with 1 Axes>"
      ]
     },
     "metadata": {},
     "output_type": "display_data"
    }
   ],
   "source": [
    "y_pred = best_model.predict_proba(X_test2)\n",
    "print(sklearn.metrics.roc_auc_score(y_test, y_pred[:,1] ))\n",
    "\n",
    "\n",
    "fpr, tpr, _ = sklearn.metrics.roc_curve(y_test, y_pred[:,1] )\n",
    "auc = sklearn.metrics.roc_auc_score(y_test, y_pred[:,1])\n",
    "pyplot.plot(fpr,tpr,label=\"data 1, auc=\"+str(round(auc, 2)))\n",
    "pyplot.xlabel('False Positive Rate') \n",
    "pyplot.ylabel('True Positive Rate') \n",
    "pyplot.legend(loc=4)\n",
    "pyplot.show()"
   ]
  }
 ],
 "metadata": {
  "interpreter": {
   "hash": "9b01290141e826cf031f509b3628650a0d6e1431c1574d8772f880d1116f687b"
  },
  "kernelspec": {
   "display_name": "Python 3.9.16 ('CreditCard')",
   "language": "python",
   "name": "python3"
  },
  "language_info": {
   "codemirror_mode": {
    "name": "ipython",
    "version": 3
   },
   "file_extension": ".py",
   "mimetype": "text/x-python",
   "name": "python",
   "nbconvert_exporter": "python",
   "pygments_lexer": "ipython3",
   "version": "3.9.16"
  },
  "orig_nbformat": 4
 },
 "nbformat": 4,
 "nbformat_minor": 2
}
